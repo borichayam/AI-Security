{
  "nbformat": 4,
  "nbformat_minor": 0,
  "metadata": {
    "colab": {
      "private_outputs": true,
      "provenance": []
    },
    "kernelspec": {
      "name": "python3",
      "display_name": "Python 3"
    },
    "language_info": {
      "name": "python"
    }
  },
  "cells": [
    {
      "cell_type": "code",
      "source": [
        "import pandas as pd\n",
        "from matplotlib import pyplot as plt\n",
        "from sklearn import datasets\n",
        "from sklearn.linear_model import LinearRegression\n",
        "\n",
        "import numpy as np\n",
        "from sklearn.model_selection import train_test_split"
      ],
      "metadata": {
        "id": "VKcZUqHxVFe5"
      },
      "execution_count": null,
      "outputs": []
    },
    {
      "cell_type": "code",
      "source": [
        "# 데이터 다운로드 및 전처리\n",
        "data_url = \"https://www.openml.org/data/download/21831215/dataset\"\n",
        "data = pd.read_csv(data_url, sep=\",\", skiprows=43, header=None)\n",
        "data.columns = ['Survived (target)','Pclass','Sex','Age','Fare','Embarked','relatives', 'Title']\n",
        "\n",
        "data"
      ],
      "metadata": {
        "id": "p56dM9EVVGCR"
      },
      "execution_count": null,
      "outputs": []
    },
    {
      "cell_type": "code",
      "execution_count": null,
      "metadata": {
        "id": "qzHVbx2YVBA-"
      },
      "outputs": [],
      "source": [
        "# 설명변수(X)와 종속변수(y) 선택\n",
        "X = data[['Age', 'Fare']]\n",
        "y = data['Survived (target)']\n",
        "\n",
        "# train 데이터셋과 test 데이터셋으로 분할 (train:test = 9:1)\n",
        "train_size = int(len(data) * 0.9)\n",
        "\n",
        "# train 데이터셋과 test 데이터셋을 분할합니다.\n",
        "train_data = data.iloc[:train_size]\n",
        "test_data = data.iloc[train_size:]\n",
        "\n",
        "# 설명 변수(X)와 종속 변수(y)를 분할합니다.\n",
        "X_train = train_data[['Age', 'Fare']]\n",
        "y_train = train_data['Survived (target)']\n",
        "\n",
        "X_train, y_train"
      ]
    },
    {
      "cell_type": "code",
      "source": [
        "X_test = test_data[['Age', 'Fare']]\n",
        "y_test = test_data['Survived (target)']\n",
        "\n",
        "X_test, y_test"
      ],
      "metadata": {
        "id": "oeVu_2x3ZRuP"
      },
      "execution_count": null,
      "outputs": []
    },
    {
      "cell_type": "code",
      "source": [
        "# 모델 학습\n",
        "model = LinearRegression()\n",
        "model.fit(X_train, y_train)"
      ],
      "metadata": {
        "id": "gKKjeDoWX7Nh"
      },
      "execution_count": null,
      "outputs": []
    },
    {
      "cell_type": "code",
      "source": [
        "#절편값\n",
        "print(\"절편값 : \", model.intercept_)\n",
        "\n",
        "#가중치\n",
        "print(\"가중치 : \", model.coef_)"
      ],
      "metadata": {
        "id": "PE68JBImYEj2"
      },
      "execution_count": null,
      "outputs": []
    },
    {
      "cell_type": "code",
      "source": [
        "# 모델 평가: 결정계수 확인\n",
        "train_score = model.score(X_train, y_train)\n",
        "test_score = model.score(X_test, y_test)\n",
        "print(\"Train R^2 Score:\", train_score)\n",
        "print(\"Test R^2 Score:\", test_score)"
      ],
      "metadata": {
        "id": "Kw0MvavOa9uR"
      },
      "execution_count": null,
      "outputs": []
    },
    {
      "cell_type": "code",
      "source": [
        "# 회귀식 출력\n",
        "coefficients = model.coef_\n",
        "intercept = model.intercept_\n",
        "print(\"회귀식: y =\", coefficients[0], \"* Age +\", coefficients[1], \"* Fare +\", intercept)"
      ],
      "metadata": {
        "id": "HhDvPJ2hbeAR"
      },
      "execution_count": null,
      "outputs": []
    },
    {
      "cell_type": "code",
      "source": [
        "from sympy import symbols, exp, Function, Max, Piecewise, Matrix\n",
        "from sympy.plotting import plot, plot3d, PlotGrid\n",
        "from sympy.functions.elementary.hyperbolic import tanh\n",
        "from sympy.printing.latex import LatexPrinter, print_latex\n",
        "\n",
        "# 독립 변수 생성\n",
        "x, y = symbols('x y')\n",
        "\n",
        "# 회귀식\n",
        "def regression_eq(x, y):\n",
        "    return 0.07836937701405286 * x + 0.17987508076489225 * y + 0.54339068503426\n",
        "\n",
        "# 3차원 도표 생성\n",
        "p1 = plot3d(regression_eq(x, y), (x, 0, 6), (y, 0, 4), xlabel='Age', ylabel='Fare', zlabel='Survived (target)', show=False)\n",
        "\n",
        "# 3차원 도표 표시\n",
        "PlotGrid(1, 1, p1)"
      ],
      "metadata": {
        "id": "4kU0XTjwhZZF"
      },
      "execution_count": null,
      "outputs": []
    },
    {
      "cell_type": "code",
      "source": [
        "# single plot\n",
        "def g(x):\n",
        "    return 0.17987508076489225 * x + 0.54339068503426\n",
        "\n",
        "plot(g(x), (x, 0, 4))\n"
      ],
      "metadata": {
        "id": "nn3R1yFzi383"
      },
      "execution_count": null,
      "outputs": []
    },
    {
      "cell_type": "code",
      "source": [
        "from mpl_toolkits.mplot3d import Axes3D\n",
        "\n",
        "# 3D 그래프 생성\n",
        "fig = plt.figure(figsize=(10, 8))\n",
        "ax = fig.add_subplot(111, projection='3d')\n",
        "\n",
        "# fare, age, survived 데이터 추출\n",
        "fare = data['Fare']\n",
        "age = data['Age']\n",
        "survived = data['Survived (target)']\n",
        "\n",
        "# 생존 여부에 따라 데이터 색상 지정\n",
        "colors = ['blue' if s == 1 else 'red' for s in survived]\n",
        "\n",
        "# 3D 그래프에 데이터 플로팅\n",
        "ax.scatter(fare, age, survived, c=colors, alpha=0.5)\n",
        "\n",
        "# 축 레이블링\n",
        "ax.set_xlabel('Fare')\n",
        "ax.set_ylabel('Age')\n",
        "ax.set_zlabel('Survived')\n",
        "\n",
        "# 그래프 표시\n",
        "plt.title('Survived vs Fare and Age')\n",
        "plt.show()"
      ],
      "metadata": {
        "id": "IvYXyiN1cC8S"
      },
      "execution_count": null,
      "outputs": []
    }
  ]
}